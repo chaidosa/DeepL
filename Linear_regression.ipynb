{
 "cells": [
  {
   "cell_type": "code",
   "execution_count": 2,
   "metadata": {},
   "outputs": [
    {
     "data": {
      "image/png": "[encoded data removed]",
      "text/plain": [
       "<Figure size 640x480 with 1 Axes>"
      ]
     },
     "metadata": {},
     "output_type": "display_data"
    }
   ],
   "source": [
    "import numpy as np\n",
    "import matplotlib.pyplot as plt\n",
    "%matplotlib inline\n",
    "\n",
    "#creating 50 random x and y numbers\n",
    "np.random.seed(1)\n",
    "n = 50\n",
    "x = np.random.randn(n)\n",
    "y = x*np.random.randn(n)\n",
    "\n",
    "#creates numbers dots with different colours\n",
    "colors = np.random.rand(n)\n",
    "\n",
    "#Plot best-fit line via polyfit\n",
    "plt.plot(np.unique(x), np.poly1d(np.polyfit(x, y, 1))(np.unique(x)))\n",
    "\n",
    "#plot the random x and y data points\n",
    "plt.scatter(x, y, c=colors, alpha=0.5)\n",
    "plt.show()"
   ]
  },
  {
   "cell_type": "code",
   "execution_count": 8,
   "metadata": {},
   "outputs": [
    {
     "data": {
      "text/plain": [
       "(11, 1)"
      ]
     },
     "execution_count": 8,
     "metadata": {},
     "output_type": "execute_result"
    }
   ],
   "source": [
    "#building the toy dataset\n",
    "x_values = [i for i in range(11)]\n",
    "\n",
    "#convert to numpy array\n",
    "x_train = np.array(x_values, dtype=np.float32)\n",
    "\n",
    "#convert it to 2-dimensional array\n",
    "x_train = x_train.reshape(-1, 1)\n",
    "\n",
    "\n",
    "# y = 2x + 1\n",
    "y_values = [2*i + 1 for i in x_values]\n",
    "y_train = np.array(y_values, dtype=np.float32)\n",
    "y_train = y_train.reshape(-1, 1)"
   ]
  },
  {
   "cell_type": "code",
   "execution_count": 9,
   "metadata": {},
   "outputs": [],
   "source": [
    "#building the model\n",
    "import torch\n",
    "import torch.nn as nn\n",
    "\n",
    "\n",
    "class LinearRegressionModel(nn.Module):\n",
    "    def __init__(self, input_dim, output_dim):\n",
    "        super(LinearRegressionModel, self).__init__()\n",
    "        self.linear = nn.Linear(input_dim, output_dim)\n",
    "    \n",
    "    def forward(self, x):\n",
    "        out = self.linear(x)\n",
    "        return out\n",
    "        "
   ]
  },
  {
   "cell_type": "code",
   "execution_count": 10,
   "metadata": {},
   "outputs": [],
   "source": [
    "input_dim = 1\n",
    "output_dim = 1\n",
    "\n",
    "model = LinearRegressionModel(input_dim, output_dim)"
   ]
  },
  {
   "cell_type": "code",
   "execution_count": 17,
   "metadata": {},
   "outputs": [
    {
     "name": "stdout",
     "output_type": "stream",
     "text": [
      "epoch 1, loss 0.01148061454296112\n",
      "epoch 2, loss 0.011352408677339554\n",
      "epoch 3, loss 0.011225619353353977\n",
      "epoch 4, loss 0.011100295931100845\n",
      "epoch 5, loss 0.010976285673677921\n",
      "epoch 6, loss 0.01085375715047121\n",
      "epoch 7, loss 0.010732538066804409\n",
      "epoch 8, loss 0.010612686164677143\n",
      "epoch 9, loss 0.010494165122509003\n",
      "epoch 10, loss 0.010377013124525547\n",
      "epoch 11, loss 0.01026106532663107\n",
      "epoch 12, loss 0.01014653965830803\n",
      "epoch 13, loss 0.010033226571977139\n",
      "epoch 14, loss 0.009921160526573658\n",
      "epoch 15, loss 0.009810400195419788\n",
      "epoch 16, loss 0.00970083475112915\n",
      "epoch 17, loss 0.009592522867023945\n",
      "epoch 18, loss 0.009485442191362381\n",
      "epoch 19, loss 0.009379458613693714\n",
      "epoch 20, loss 0.00927471648901701\n",
      "epoch 21, loss 0.009171156212687492\n",
      "epoch 22, loss 0.009068761020898819\n",
      "epoch 23, loss 0.00896748062223196\n",
      "epoch 24, loss 0.00886733178049326\n",
      "epoch 25, loss 0.008768327534198761\n",
      "epoch 26, loss 0.00867040827870369\n",
      "epoch 27, loss 0.008573629893362522\n",
      "epoch 28, loss 0.008477873168885708\n",
      "epoch 29, loss 0.008383217267692089\n",
      "epoch 30, loss 0.008289545774459839\n",
      "epoch 31, loss 0.008196976035833359\n",
      "epoch 32, loss 0.008105501532554626\n",
      "epoch 33, loss 0.008014948107302189\n",
      "epoch 34, loss 0.007925481535494328\n",
      "epoch 35, loss 0.00783698633313179\n",
      "epoch 36, loss 0.007749463897198439\n",
      "epoch 37, loss 0.007662915159016848\n",
      "epoch 38, loss 0.007577328477054834\n",
      "epoch 39, loss 0.00749273132532835\n",
      "epoch 40, loss 0.007409040816128254\n",
      "epoch 41, loss 0.007326317019760609\n",
      "epoch 42, loss 0.007244491949677467\n",
      "epoch 43, loss 0.007163562346249819\n",
      "epoch 44, loss 0.007083606906235218\n",
      "epoch 45, loss 0.007004491984844208\n",
      "epoch 46, loss 0.006926283705979586\n",
      "epoch 47, loss 0.006848945748060942\n",
      "epoch 48, loss 0.0067724380642175674\n",
      "epoch 49, loss 0.0066968114115297794\n",
      "epoch 50, loss 0.006622059270739555\n",
      "epoch 51, loss 0.0065481108613312244\n",
      "epoch 52, loss 0.0064749568700790405\n",
      "epoch 53, loss 0.006402669940143824\n",
      "epoch 54, loss 0.00633115042001009\n",
      "epoch 55, loss 0.0062604667618870735\n",
      "epoch 56, loss 0.0061905886977910995\n",
      "epoch 57, loss 0.006121446378529072\n",
      "epoch 58, loss 0.006053060758858919\n",
      "epoch 59, loss 0.005985490512102842\n",
      "epoch 60, loss 0.005918614100664854\n",
      "epoch 61, loss 0.005852534901350737\n",
      "epoch 62, loss 0.005787193775177002\n",
      "epoch 63, loss 0.005722567439079285\n",
      "epoch 64, loss 0.005658662412315607\n",
      "epoch 65, loss 0.0055954488925635815\n",
      "epoch 66, loss 0.0055329990573227406\n",
      "epoch 67, loss 0.0054712239652872086\n",
      "epoch 68, loss 0.0054101417772471905\n",
      "epoch 69, loss 0.005349720828235149\n",
      "epoch 70, loss 0.00528993783518672\n",
      "epoch 71, loss 0.005230896174907684\n",
      "epoch 72, loss 0.005172466393560171\n",
      "epoch 73, loss 0.005114705767482519\n",
      "epoch 74, loss 0.00505761569365859\n",
      "epoch 75, loss 0.005001117940992117\n",
      "epoch 76, loss 0.004945255350321531\n",
      "epoch 77, loss 0.004890086129307747\n",
      "epoch 78, loss 0.004835478030145168\n",
      "epoch 79, loss 0.004781420808285475\n",
      "epoch 80, loss 0.004728065803647041\n",
      "epoch 81, loss 0.004675277043133974\n",
      "epoch 82, loss 0.004623056389391422\n",
      "epoch 83, loss 0.0045714532025158405\n",
      "epoch 84, loss 0.004520376678556204\n",
      "epoch 85, loss 0.00446991017088294\n",
      "epoch 86, loss 0.00441998103633523\n",
      "epoch 87, loss 0.0043706283904612064\n",
      "epoch 88, loss 0.004321807064116001\n",
      "epoch 89, loss 0.004273546859622002\n",
      "epoch 90, loss 0.004225831478834152\n",
      "epoch 91, loss 0.004178633913397789\n",
      "epoch 92, loss 0.004131983034312725\n",
      "epoch 93, loss 0.004085831344127655\n",
      "epoch 94, loss 0.004040208645164967\n",
      "epoch 95, loss 0.00399509584531188\n",
      "epoch 96, loss 0.003950479906052351\n",
      "epoch 97, loss 0.003906411584466696\n",
      "epoch 98, loss 0.003862756537273526\n",
      "epoch 99, loss 0.003819613019004464\n",
      "epoch 100, loss 0.0037769852206110954\n"
     ]
    }
   ],
   "source": [
    "criterion = nn.MSELoss()\n",
    "learning_rate = 0.01\n",
    "optimizer = torch.optim.SGD(model.parameters(), lr=learning_rate)\n",
    "\n",
    "epochs = 100\n",
    "\n",
    "for epoch in range(epochs):\n",
    "    epoch += 1\n",
    "    inputs = torch.from_numpy(x_train).requires_grad_()\n",
    "    labels = torch.from_numpy(y_train)\n",
    "\n",
    "    #clear the gradient w.r.t parametere\n",
    "    optimizer.zero_grad()\n",
    "\n",
    "    # Forward to get output\n",
    "    outputs = model(inputs)\n",
    "\n",
    "    #calculate the loss\n",
    "    loss = criterion(outputs, labels)\n",
    "\n",
    "    #Getting gradients w.r.t parameters\n",
    "    loss.backward()\n",
    "\n",
    "    #upadating parameters\n",
    "    optimizer.step()\n",
    "\n",
    "    print('epoch {}, loss {}'.format(epoch, loss.item()))"
   ]
  },
  {
   "cell_type": "code",
   "execution_count": 18,
   "metadata": {},
   "outputs": [
    {
     "data": {
      "text/plain": [
       "array([[ 0.88567734],\n",
       "       [ 2.9021409 ],\n",
       "       [ 4.9186044 ],\n",
       "       [ 6.935068  ],\n",
       "       [ 8.951531  ],\n",
       "       [10.967995  ],\n",
       "       [12.984459  ],\n",
       "       [15.000922  ],\n",
       "       [17.017385  ],\n",
       "       [19.03385   ],\n",
       "       [21.050312  ]], dtype=float32)"
      ]
     },
     "execution_count": 18,
     "metadata": {},
     "output_type": "execute_result"
    }
   ],
   "source": [
    "predicted = model(torch.from_numpy(x_train).requires_grad_()).data.numpy()\n",
    "predicted"
   ]
  },
  {
   "cell_type": "code",
   "execution_count": 19,
   "metadata": {},
   "outputs": [
    {
     "data": {
      "image/png": "[encoded data removed]",
      "text/plain": [
       "<Figure size 640x480 with 1 Axes>"
      ]
     },
     "metadata": {},
     "output_type": "display_data"
    }
   ],
   "source": [
    "# Plot of predicted and actual values\n",
    "\n",
    "# clear figure\n",
    "plt.clf()\n",
    "\n",
    "# Get predictions\n",
    "predicted = model(torch.from_numpy(x_train).requires_grad_()).data.numpy()\n",
    "\n",
    "#plot true data\n",
    "plt.plot(x_train, y_train, 'go', label = 'True data', alpha=0.5)\n",
    "\n",
    "#plot predicitions\n",
    "plt.plot(x_train, predicted, '--', label='Predictions', alpha=0.5)\n",
    "\n",
    "#legent and plot\n",
    "plt.legend(loc='best')\n",
    "plt.show()"
   ]
  },
  {
   "cell_type": "code",
   "execution_count": null,
   "metadata": {},
   "outputs": [],
   "source": []
  }
 ],
 "metadata": {
  "kernelspec": {
   "display_name": "Python 3",
   "language": "python",
   "name": "python3"
  },
  "language_info": {
   "codemirror_mode": {
    "name": "ipython",
    "version": 3
   },
   "file_extension": ".py",
   "mimetype": "text/x-python",
   "name": "python",
   "nbconvert_exporter": "python",
   "pygments_lexer": "ipython3",
   "version": "3.10.9"
  },
  "orig_nbformat": 4,
  "vscode": {
   "interpreter": {
    "hash": "a0b2548c9b6b542c0cf7694a5a39c92f7069841288fe8e0b0c3e175a0256d651"
   }
  }
 },
 "nbformat": 4,
 "nbformat_minor": 2
}
